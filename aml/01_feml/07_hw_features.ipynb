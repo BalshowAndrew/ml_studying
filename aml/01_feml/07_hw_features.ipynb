{
 "cells": [
  {
   "cell_type": "markdown",
   "id": "541c110e-27f4-44dc-9cba-b3349fa98280",
   "metadata": {},
   "source": [
    "# Домашнее задание по теме \"Работа с переменными\""
   ]
  },
  {
   "cell_type": "code",
   "execution_count": 29,
   "id": "3475c418-e06d-4945-b3d1-8088750551ef",
   "metadata": {},
   "outputs": [],
   "source": [
    "import numpy as np\n",
    "import pandas as pd\n",
    "\n",
    "from sklearn.pipeline import make_pipeline\n",
    "from sklearn.preprocessing import StandardScaler\n",
    "from sklearn.linear_model import LinearRegression\n",
    "from sklearn.model_selection import train_test_split\n",
    "from sklearn.datasets import fetch_california_housing\n",
    "from sklearn.metrics import mean_squared_error, r2_score"
   ]
  },
  {
   "cell_type": "markdown",
   "id": "9b2fd949-7e9d-4896-80aa-d315756f413a",
   "metadata": {},
   "source": [
    "## Получение данных и загрузка их в dataframe"
   ]
  },
  {
   "cell_type": "code",
   "execution_count": 2,
   "id": "7d5f879f-1245-4d0b-b75f-31ffa84013ce",
   "metadata": {},
   "outputs": [
    {
     "name": "stdout",
     "output_type": "stream",
     "text": [
      "(20640, 8) (20640,)\n"
     ]
    }
   ],
   "source": [
    "housing = fetch_california_housing()\n",
    "print(housing.data.shape, housing.target.shape)"
   ]
  },
  {
   "cell_type": "code",
   "execution_count": 3,
   "id": "bf608eb9-0f88-4b6c-bae5-3077b23a70b7",
   "metadata": {},
   "outputs": [
    {
     "name": "stdout",
     "output_type": "stream",
     "text": [
      ".. _california_housing_dataset:\n",
      "\n",
      "California Housing dataset\n",
      "--------------------------\n",
      "\n",
      "**Data Set Characteristics:**\n",
      "\n",
      ":Number of Instances: 20640\n",
      "\n",
      ":Number of Attributes: 8 numeric, predictive attributes and the target\n",
      "\n",
      ":Attribute Information:\n",
      "    - MedInc        median income in block group\n",
      "    - HouseAge      median house age in block group\n",
      "    - AveRooms      average number of rooms per household\n",
      "    - AveBedrms     average number of bedrooms per household\n",
      "    - Population    block group population\n",
      "    - AveOccup      average number of household members\n",
      "    - Latitude      block group latitude\n",
      "    - Longitude     block group longitude\n",
      "\n",
      ":Missing Attribute Values: None\n",
      "\n",
      "This dataset was obtained from the StatLib repository.\n",
      "https://www.dcc.fc.up.pt/~ltorgo/Regression/cal_housing.html\n",
      "\n",
      "The target variable is the median house value for California districts,\n",
      "expressed in hundreds of thousands of dollars ($100,000).\n",
      "\n",
      "This dataset was derived from the 1990 U.S. census, using one row per census\n",
      "block group. A block group is the smallest geographical unit for which the U.S.\n",
      "Census Bureau publishes sample data (a block group typically has a population\n",
      "of 600 to 3,000 people).\n",
      "\n",
      "A household is a group of people residing within a home. Since the average\n",
      "number of rooms and bedrooms in this dataset are provided per household, these\n",
      "columns may take surprisingly large values for block groups with few households\n",
      "and many empty houses, such as vacation resorts.\n",
      "\n",
      "It can be downloaded/loaded using the\n",
      ":func:`sklearn.datasets.fetch_california_housing` function.\n",
      "\n",
      ".. topic:: References\n",
      "\n",
      "    - Pace, R. Kelley and Ronald Barry, Sparse Spatial Autoregressions,\n",
      "      Statistics and Probability Letters, 33 (1997) 291-297\n",
      "\n"
     ]
    }
   ],
   "source": [
    "print(fetch_california_housing().DESCR)"
   ]
  },
  {
   "cell_type": "code",
   "execution_count": 25,
   "id": "db573eee-7823-4c54-8980-e8c61140dc3b",
   "metadata": {},
   "outputs": [],
   "source": [
    "df = pd.DataFrame(housing.data, columns=[housing.feature_names])\n",
    "df['MedHCost'] = housing.target"
   ]
  },
  {
   "cell_type": "code",
   "execution_count": 26,
   "id": "6a17dba6-cd44-4d47-940a-382fbf8f0b5b",
   "metadata": {},
   "outputs": [
    {
     "data": {
      "text/html": [
       "<div>\n",
       "<style scoped>\n",
       "    .dataframe tbody tr th:only-of-type {\n",
       "        vertical-align: middle;\n",
       "    }\n",
       "\n",
       "    .dataframe tbody tr th {\n",
       "        vertical-align: top;\n",
       "    }\n",
       "\n",
       "    .dataframe thead tr th {\n",
       "        text-align: left;\n",
       "    }\n",
       "</style>\n",
       "<table border=\"1\" class=\"dataframe\">\n",
       "  <thead>\n",
       "    <tr>\n",
       "      <th></th>\n",
       "      <th>MedInc</th>\n",
       "      <th>HouseAge</th>\n",
       "      <th>AveRooms</th>\n",
       "      <th>AveBedrms</th>\n",
       "      <th>Population</th>\n",
       "      <th>AveOccup</th>\n",
       "      <th>Latitude</th>\n",
       "      <th>Longitude</th>\n",
       "      <th>MedHCost</th>\n",
       "    </tr>\n",
       "  </thead>\n",
       "  <tbody>\n",
       "    <tr>\n",
       "      <th>0</th>\n",
       "      <td>8.3252</td>\n",
       "      <td>41.0</td>\n",
       "      <td>6.984127</td>\n",
       "      <td>1.023810</td>\n",
       "      <td>322.0</td>\n",
       "      <td>2.555556</td>\n",
       "      <td>37.88</td>\n",
       "      <td>-122.23</td>\n",
       "      <td>4.526</td>\n",
       "    </tr>\n",
       "    <tr>\n",
       "      <th>1</th>\n",
       "      <td>8.3014</td>\n",
       "      <td>21.0</td>\n",
       "      <td>6.238137</td>\n",
       "      <td>0.971880</td>\n",
       "      <td>2401.0</td>\n",
       "      <td>2.109842</td>\n",
       "      <td>37.86</td>\n",
       "      <td>-122.22</td>\n",
       "      <td>3.585</td>\n",
       "    </tr>\n",
       "    <tr>\n",
       "      <th>2</th>\n",
       "      <td>7.2574</td>\n",
       "      <td>52.0</td>\n",
       "      <td>8.288136</td>\n",
       "      <td>1.073446</td>\n",
       "      <td>496.0</td>\n",
       "      <td>2.802260</td>\n",
       "      <td>37.85</td>\n",
       "      <td>-122.24</td>\n",
       "      <td>3.521</td>\n",
       "    </tr>\n",
       "    <tr>\n",
       "      <th>3</th>\n",
       "      <td>5.6431</td>\n",
       "      <td>52.0</td>\n",
       "      <td>5.817352</td>\n",
       "      <td>1.073059</td>\n",
       "      <td>558.0</td>\n",
       "      <td>2.547945</td>\n",
       "      <td>37.85</td>\n",
       "      <td>-122.25</td>\n",
       "      <td>3.413</td>\n",
       "    </tr>\n",
       "    <tr>\n",
       "      <th>4</th>\n",
       "      <td>3.8462</td>\n",
       "      <td>52.0</td>\n",
       "      <td>6.281853</td>\n",
       "      <td>1.081081</td>\n",
       "      <td>565.0</td>\n",
       "      <td>2.181467</td>\n",
       "      <td>37.85</td>\n",
       "      <td>-122.25</td>\n",
       "      <td>3.422</td>\n",
       "    </tr>\n",
       "  </tbody>\n",
       "</table>\n",
       "</div>"
      ],
      "text/plain": [
       "   MedInc HouseAge  AveRooms AveBedrms Population  AveOccup Latitude  \\\n",
       "0  8.3252     41.0  6.984127  1.023810      322.0  2.555556    37.88   \n",
       "1  8.3014     21.0  6.238137  0.971880     2401.0  2.109842    37.86   \n",
       "2  7.2574     52.0  8.288136  1.073446      496.0  2.802260    37.85   \n",
       "3  5.6431     52.0  5.817352  1.073059      558.0  2.547945    37.85   \n",
       "4  3.8462     52.0  6.281853  1.081081      565.0  2.181467    37.85   \n",
       "\n",
       "  Longitude MedHCost  \n",
       "0   -122.23    4.526  \n",
       "1   -122.22    3.585  \n",
       "2   -122.24    3.521  \n",
       "3   -122.25    3.413  \n",
       "4   -122.25    3.422  "
      ]
     },
     "execution_count": 26,
     "metadata": {},
     "output_type": "execute_result"
    }
   ],
   "source": [
    "df.head()"
   ]
  },
  {
   "cell_type": "code",
   "execution_count": 6,
   "id": "7fa8d223-6398-4d17-9204-1a80e2c65790",
   "metadata": {},
   "outputs": [
    {
     "data": {
      "text/plain": [
       "(20640, 9)"
      ]
     },
     "execution_count": 6,
     "metadata": {},
     "output_type": "execute_result"
    }
   ],
   "source": [
    "df.shape"
   ]
  },
  {
   "cell_type": "markdown",
   "id": "55b63808-7393-46b4-9d66-397541f8e3a0",
   "metadata": {},
   "source": [
    "## Проверка данных на наличие пропусков"
   ]
  },
  {
   "cell_type": "code",
   "execution_count": 7,
   "id": "7cae7980-f182-4f86-938b-7e39db383034",
   "metadata": {},
   "outputs": [
    {
     "data": {
      "text/plain": [
       "MedInc        0\n",
       "HouseAge      0\n",
       "AveRooms      0\n",
       "AveBedrms     0\n",
       "Population    0\n",
       "AveOccup      0\n",
       "Latitude      0\n",
       "Longitude     0\n",
       "MedHCost      0\n",
       "dtype: int64"
      ]
     },
     "execution_count": 7,
     "metadata": {},
     "output_type": "execute_result"
    }
   ],
   "source": [
    "df.isna().sum()"
   ]
  },
  {
   "cell_type": "code",
   "execution_count": 8,
   "id": "c57bc810-f461-45ca-bb91-91820f37198d",
   "metadata": {},
   "outputs": [
    {
     "name": "stdout",
     "output_type": "stream",
     "text": [
      "<class 'pandas.core.frame.DataFrame'>\n",
      "RangeIndex: 20640 entries, 0 to 20639\n",
      "Data columns (total 9 columns):\n",
      " #   Column         Non-Null Count  Dtype  \n",
      "---  ------         --------------  -----  \n",
      " 0   (MedInc,)      20640 non-null  float64\n",
      " 1   (HouseAge,)    20640 non-null  float64\n",
      " 2   (AveRooms,)    20640 non-null  float64\n",
      " 3   (AveBedrms,)   20640 non-null  float64\n",
      " 4   (Population,)  20640 non-null  float64\n",
      " 5   (AveOccup,)    20640 non-null  float64\n",
      " 6   (Latitude,)    20640 non-null  float64\n",
      " 7   (Longitude,)   20640 non-null  float64\n",
      " 8   (MedHCost,)    20640 non-null  float64\n",
      "dtypes: float64(9)\n",
      "memory usage: 1.4 MB\n"
     ]
    }
   ],
   "source": [
    "df.info()"
   ]
  },
  {
   "cell_type": "markdown",
   "id": "6b3b94b1-5a26-4516-92a9-3e0a869e4dba",
   "metadata": {},
   "source": [
    "Все признаки содержат числовые значения. Пропусков в наборе данных нет."
   ]
  },
  {
   "cell_type": "markdown",
   "id": "a90a2092-927a-4bcc-ab24-b81a45249693",
   "metadata": {},
   "source": [
    "## Обучение модели линейной регрессии и вычисление метрик"
   ]
  },
  {
   "cell_type": "markdown",
   "id": "a3d91155-d696-4828-a5fe-9efcfd9ea0aa",
   "metadata": {},
   "source": [
    "Зададим функцию, которая будет разбивать датафрейм на обучающую и тестовую подвыборки, обучать модель линейной регрессии и выподить на экран значения mse и r2"
   ]
  },
  {
   "cell_type": "code",
   "execution_count": 63,
   "id": "0e359166-7dd1-4eb4-ae4e-3eb6198a25dc",
   "metadata": {},
   "outputs": [],
   "source": [
    "def get_scores(df, random_seed=5):\n",
    "    X = df[housing.feature_names]\n",
    "    y = df[['MedHCost']]\n",
    "    X_train, X_test, y_train, y_test = train_test_split(X, y, test_size=0.2, random_state=random_seed)\n",
    "    \n",
    "    scaler = StandardScaler()\n",
    "    X_train = scaler.fit_transform(X_train)\n",
    "    X_test = scaler.transform(X_test)\n",
    "    \n",
    "    model = LinearRegression()\n",
    "    model.fit(X_train, y_train)\n",
    "    \n",
    "    train_pred = model.predict(X_train)\n",
    "    test_pred = model.predict(X_test)\n",
    "    train_mse = mean_squared_error(y_train, train_pred)\n",
    "    test_mse = mean_squared_error(y_test, test_pred)\n",
    "    train_r2 = r2_score(y_train, train_pred)\n",
    "    test_r2 = r2_score(y_test, test_pred)\n",
    "    score_dict = {\"Train_mse\":[train_mse], \"Train_r2\":[train_r2], \"Test_mse\":[test_mse], \"Test_r2\":[test_r2]}\n",
    "    return score_dict"
   ]
  },
  {
   "cell_type": "code",
   "execution_count": 65,
   "id": "6b3e8231-ddc1-4cf8-ab79-e25b2b03e63e",
   "metadata": {},
   "outputs": [
    {
     "data": {
      "text/html": [
       "<div>\n",
       "<style scoped>\n",
       "    .dataframe tbody tr th:only-of-type {\n",
       "        vertical-align: middle;\n",
       "    }\n",
       "\n",
       "    .dataframe tbody tr th {\n",
       "        vertical-align: top;\n",
       "    }\n",
       "\n",
       "    .dataframe thead th {\n",
       "        text-align: right;\n",
       "    }\n",
       "</style>\n",
       "<table border=\"1\" class=\"dataframe\">\n",
       "  <thead>\n",
       "    <tr style=\"text-align: right;\">\n",
       "      <th></th>\n",
       "      <th>Train_mse</th>\n",
       "      <th>Train_r2</th>\n",
       "      <th>Test_mse</th>\n",
       "      <th>Test_r2</th>\n",
       "    </tr>\n",
       "  </thead>\n",
       "  <tbody>\n",
       "    <tr>\n",
       "      <th>0</th>\n",
       "      <td>0.52144</td>\n",
       "      <td>0.604792</td>\n",
       "      <td>0.536343</td>\n",
       "      <td>0.611257</td>\n",
       "    </tr>\n",
       "  </tbody>\n",
       "</table>\n",
       "</div>"
      ],
      "text/plain": [
       "   Train_mse  Train_r2  Test_mse   Test_r2\n",
       "0    0.52144  0.604792  0.536343  0.611257"
      ]
     },
     "execution_count": 65,
     "metadata": {},
     "output_type": "execute_result"
    }
   ],
   "source": [
    "score_df = pd.DataFrame(get_scores(df))\n",
    "score_df"
   ]
  },
  {
   "cell_type": "code",
   "execution_count": null,
   "id": "31d07c80-5306-41bf-9401-c872df1450ff",
   "metadata": {},
   "outputs": [],
   "source": []
  },
  {
   "cell_type": "code",
   "execution_count": null,
   "id": "730723c1-eb61-4270-98fa-3ec4a3eb8b16",
   "metadata": {},
   "outputs": [],
   "source": []
  }
 ],
 "metadata": {
  "kernelspec": {
   "display_name": "Python 3 (ipykernel)",
   "language": "python",
   "name": "python3"
  },
  "language_info": {
   "codemirror_mode": {
    "name": "ipython",
    "version": 3
   },
   "file_extension": ".py",
   "mimetype": "text/x-python",
   "name": "python",
   "nbconvert_exporter": "python",
   "pygments_lexer": "ipython3",
   "version": "3.11.7"
  }
 },
 "nbformat": 4,
 "nbformat_minor": 5
}
