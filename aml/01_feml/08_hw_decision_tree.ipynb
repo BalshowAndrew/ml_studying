{
 "cells": [
  {
   "cell_type": "markdown",
   "id": "20468dc6-95cd-4511-af29-4963475f6338",
   "metadata": {},
   "source": [
    "# Домашнее задание \"Деревья решений\""
   ]
  },
  {
   "cell_type": "markdown",
   "id": "e7ed5d4f-25ac-4adc-85ca-8c40c72eea57",
   "metadata": {},
   "source": [
    "## 1. Получение и загрузка данных"
   ]
  },
  {
   "cell_type": "code",
   "execution_count": null,
   "id": "c398a5c0-1ddb-4499-8556-badeb3099ca3",
   "metadata": {},
   "outputs": [],
   "source": []
  }
 ],
 "metadata": {
  "kernelspec": {
   "display_name": "Python 3 (ipykernel)",
   "language": "python",
   "name": "python3"
  },
  "language_info": {
   "codemirror_mode": {
    "name": "ipython",
    "version": 3
   },
   "file_extension": ".py",
   "mimetype": "text/x-python",
   "name": "python",
   "nbconvert_exporter": "python",
   "pygments_lexer": "ipython3",
   "version": "3.11.8"
  }
 },
 "nbformat": 4,
 "nbformat_minor": 5
}
