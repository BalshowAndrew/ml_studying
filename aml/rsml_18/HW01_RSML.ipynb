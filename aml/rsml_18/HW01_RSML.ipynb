{
 "cells": [
  {
   "cell_type": "markdown",
   "id": "6f909804-913d-42dd-8723-647144f262f0",
   "metadata": {},
   "source": [
    "# Домашнее задание по теме \"Рекомендации на основе содержания\""
   ]
  },
  {
   "cell_type": "markdown",
   "id": "acb250ae-0685-4f75-b4a6-b7815a925d6d",
   "metadata": {},
   "source": [
    "## Задание"
   ]
  },
  {
   "cell_type": "markdown",
   "id": "3020065f-dab5-40e5-866b-cf86ec256b94",
   "metadata": {},
   "source": [
    "1. Использовать датасет [MovieLens](https://grouplens.org/datasets/movielens/latest/)\n",
    "2. Построить рекомендации (регрессия, предсказываем оценку) на фичах:\n",
    "   - TF-IDF на тегах и жанрах;\n",
    "   - средние оценки (+ median, variance и т.д.) пользователя фильма.\n",
    "4. Оценить RMSE на тестовой выборке."
   ]
  },
  {
   "cell_type": "markdown",
   "id": "54f3c0e8-e429-4c96-9d52-71d21379be5a",
   "metadata": {},
   "source": [
    "## Решение"
   ]
  },
  {
   "cell_type": "code",
   "execution_count": 1,
   "id": "6db28857-f04d-45c4-b402-9e113a8d5568",
   "metadata": {},
   "outputs": [],
   "source": [
    "import pandas as pd\n",
    "import numpy as np\n"
   ]
  },
  {
   "cell_type": "markdown",
   "id": "865c0237-1565-4e2a-9cca-5729325ea685",
   "metadata": {},
   "source": [
    "### Загрузка данных"
   ]
  },
  {
   "cell_type": "code",
   "execution_count": 4,
   "id": "24566518-8fa2-4015-8670-f83946b4fd11",
   "metadata": {},
   "outputs": [],
   "source": [
    "movies = pd.read_csv('movies.csv')\n",
    "ratings = pd.read_csv('ratings.csv')\n",
    "tags = pd.read_csv('tags.csv')"
   ]
  },
  {
   "cell_type": "code",
   "execution_count": null,
   "id": "4e5ecae1-76cd-4051-8671-c1fd2f6e78b8",
   "metadata": {},
   "outputs": [],
   "source": []
  }
 ],
 "metadata": {
  "kernelspec": {
   "display_name": "Python 3 (ipykernel)",
   "language": "python",
   "name": "python3"
  },
  "language_info": {
   "codemirror_mode": {
    "name": "ipython",
    "version": 3
   },
   "file_extension": ".py",
   "mimetype": "text/x-python",
   "name": "python",
   "nbconvert_exporter": "python",
   "pygments_lexer": "ipython3",
   "version": "3.12.6"
  }
 },
 "nbformat": 4,
 "nbformat_minor": 5
}
