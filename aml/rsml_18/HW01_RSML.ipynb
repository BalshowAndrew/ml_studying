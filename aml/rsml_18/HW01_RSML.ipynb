{
 "cells": [
  {
   "cell_type": "markdown",
   "id": "6f909804-913d-42dd-8723-647144f262f0",
   "metadata": {},
   "source": [
    "# Домашнее задание по теме \"Рекомендации на основе содержания\""
   ]
  },
  {
   "cell_type": "markdown",
   "id": "acb250ae-0685-4f75-b4a6-b7815a925d6d",
   "metadata": {},
   "source": [
    "## Задание"
   ]
  },
  {
   "cell_type": "markdown",
   "id": "3020065f-dab5-40e5-866b-cf86ec256b94",
   "metadata": {},
   "source": [
    "1. Использовать датасет [MovieLens](https://grouplens.org/datasets/movielens/latest/)\n",
    "2. Построить рекомендации (регрессия, предсказываем оценку) на фичах:\n",
    "   - TF-IDF на тегах и жанрах;\n",
    "   - средние оценки (+ median, variance и т.д.) пользователя фильма.\n",
    "4. Оценить RMSE на тестовой выборке."
   ]
  },
  {
   "cell_type": "markdown",
   "id": "54f3c0e8-e429-4c96-9d52-71d21379be5a",
   "metadata": {},
   "source": [
    "## Решение"
   ]
  },
  {
   "cell_type": "code",
   "execution_count": 1,
   "id": "6db28857-f04d-45c4-b402-9e113a8d5568",
   "metadata": {},
   "outputs": [],
   "source": [
    "import pandas as pd\n",
    "import numpy as np\n",
    "\n",
    "from sklearn.feature_extraction.text import TfidfVectorizer"
   ]
  },
  {
   "cell_type": "markdown",
   "id": "865c0237-1565-4e2a-9cca-5729325ea685",
   "metadata": {},
   "source": [
    "### Загрузка данных"
   ]
  },
  {
   "cell_type": "code",
   "execution_count": 2,
   "id": "24566518-8fa2-4015-8670-f83946b4fd11",
   "metadata": {},
   "outputs": [],
   "source": [
    "movies = pd.read_csv('movies.csv')\n",
    "ratings = pd.read_csv('ratings.csv')\n",
    "tags = pd.read_csv('tags.csv')"
   ]
  },
  {
   "cell_type": "code",
   "execution_count": 3,
   "id": "4e5ecae1-76cd-4051-8671-c1fd2f6e78b8",
   "metadata": {},
   "outputs": [
    {
     "data": {
      "text/html": [
       "<div>\n",
       "<style scoped>\n",
       "    .dataframe tbody tr th:only-of-type {\n",
       "        vertical-align: middle;\n",
       "    }\n",
       "\n",
       "    .dataframe tbody tr th {\n",
       "        vertical-align: top;\n",
       "    }\n",
       "\n",
       "    .dataframe thead th {\n",
       "        text-align: right;\n",
       "    }\n",
       "</style>\n",
       "<table border=\"1\" class=\"dataframe\">\n",
       "  <thead>\n",
       "    <tr style=\"text-align: right;\">\n",
       "      <th></th>\n",
       "      <th>movieId</th>\n",
       "      <th>title</th>\n",
       "      <th>genres</th>\n",
       "    </tr>\n",
       "  </thead>\n",
       "  <tbody>\n",
       "    <tr>\n",
       "      <th>0</th>\n",
       "      <td>1</td>\n",
       "      <td>Toy Story (1995)</td>\n",
       "      <td>Adventure|Animation|Children|Comedy|Fantasy</td>\n",
       "    </tr>\n",
       "    <tr>\n",
       "      <th>1</th>\n",
       "      <td>2</td>\n",
       "      <td>Jumanji (1995)</td>\n",
       "      <td>Adventure|Children|Fantasy</td>\n",
       "    </tr>\n",
       "    <tr>\n",
       "      <th>2</th>\n",
       "      <td>3</td>\n",
       "      <td>Grumpier Old Men (1995)</td>\n",
       "      <td>Comedy|Romance</td>\n",
       "    </tr>\n",
       "    <tr>\n",
       "      <th>3</th>\n",
       "      <td>4</td>\n",
       "      <td>Waiting to Exhale (1995)</td>\n",
       "      <td>Comedy|Drama|Romance</td>\n",
       "    </tr>\n",
       "    <tr>\n",
       "      <th>4</th>\n",
       "      <td>5</td>\n",
       "      <td>Father of the Bride Part II (1995)</td>\n",
       "      <td>Comedy</td>\n",
       "    </tr>\n",
       "  </tbody>\n",
       "</table>\n",
       "</div>"
      ],
      "text/plain": [
       "   movieId                               title  \\\n",
       "0        1                    Toy Story (1995)   \n",
       "1        2                      Jumanji (1995)   \n",
       "2        3             Grumpier Old Men (1995)   \n",
       "3        4            Waiting to Exhale (1995)   \n",
       "4        5  Father of the Bride Part II (1995)   \n",
       "\n",
       "                                        genres  \n",
       "0  Adventure|Animation|Children|Comedy|Fantasy  \n",
       "1                   Adventure|Children|Fantasy  \n",
       "2                               Comedy|Romance  \n",
       "3                         Comedy|Drama|Romance  \n",
       "4                                       Comedy  "
      ]
     },
     "execution_count": 3,
     "metadata": {},
     "output_type": "execute_result"
    }
   ],
   "source": [
    "movies.head()"
   ]
  },
  {
   "cell_type": "code",
   "execution_count": 4,
   "id": "458a06c1-14f6-4a21-819b-7b9f23dbcb55",
   "metadata": {},
   "outputs": [
    {
     "data": {
      "text/plain": [
       "(9742, 3)"
      ]
     },
     "execution_count": 4,
     "metadata": {},
     "output_type": "execute_result"
    }
   ],
   "source": [
    "movies.shape"
   ]
  },
  {
   "cell_type": "markdown",
   "id": "4b591d4f-d9f9-477b-881a-4d696d1c27e4",
   "metadata": {},
   "source": [
    "- Всего фильмов: 9742"
   ]
  },
  {
   "cell_type": "code",
   "execution_count": 5,
   "id": "f00d0243-dd95-4aea-8dcb-81d53fc9360e",
   "metadata": {},
   "outputs": [
    {
     "data": {
      "text/html": [
       "<div>\n",
       "<style scoped>\n",
       "    .dataframe tbody tr th:only-of-type {\n",
       "        vertical-align: middle;\n",
       "    }\n",
       "\n",
       "    .dataframe tbody tr th {\n",
       "        vertical-align: top;\n",
       "    }\n",
       "\n",
       "    .dataframe thead th {\n",
       "        text-align: right;\n",
       "    }\n",
       "</style>\n",
       "<table border=\"1\" class=\"dataframe\">\n",
       "  <thead>\n",
       "    <tr style=\"text-align: right;\">\n",
       "      <th></th>\n",
       "      <th>userId</th>\n",
       "      <th>movieId</th>\n",
       "      <th>tag</th>\n",
       "      <th>timestamp</th>\n",
       "    </tr>\n",
       "  </thead>\n",
       "  <tbody>\n",
       "    <tr>\n",
       "      <th>0</th>\n",
       "      <td>2</td>\n",
       "      <td>60756</td>\n",
       "      <td>funny</td>\n",
       "      <td>1445714994</td>\n",
       "    </tr>\n",
       "    <tr>\n",
       "      <th>1</th>\n",
       "      <td>2</td>\n",
       "      <td>60756</td>\n",
       "      <td>Highly quotable</td>\n",
       "      <td>1445714996</td>\n",
       "    </tr>\n",
       "    <tr>\n",
       "      <th>2</th>\n",
       "      <td>2</td>\n",
       "      <td>60756</td>\n",
       "      <td>will ferrell</td>\n",
       "      <td>1445714992</td>\n",
       "    </tr>\n",
       "    <tr>\n",
       "      <th>3</th>\n",
       "      <td>2</td>\n",
       "      <td>89774</td>\n",
       "      <td>Boxing story</td>\n",
       "      <td>1445715207</td>\n",
       "    </tr>\n",
       "    <tr>\n",
       "      <th>4</th>\n",
       "      <td>2</td>\n",
       "      <td>89774</td>\n",
       "      <td>MMA</td>\n",
       "      <td>1445715200</td>\n",
       "    </tr>\n",
       "  </tbody>\n",
       "</table>\n",
       "</div>"
      ],
      "text/plain": [
       "   userId  movieId              tag   timestamp\n",
       "0       2    60756            funny  1445714994\n",
       "1       2    60756  Highly quotable  1445714996\n",
       "2       2    60756     will ferrell  1445714992\n",
       "3       2    89774     Boxing story  1445715207\n",
       "4       2    89774              MMA  1445715200"
      ]
     },
     "execution_count": 5,
     "metadata": {},
     "output_type": "execute_result"
    }
   ],
   "source": [
    "tags.head()"
   ]
  },
  {
   "cell_type": "code",
   "execution_count": 6,
   "id": "81d513f3-53db-4374-bc6e-45b5c0a9ca1b",
   "metadata": {},
   "outputs": [
    {
     "data": {
      "text/plain": [
       "(3683, 4)"
      ]
     },
     "execution_count": 6,
     "metadata": {},
     "output_type": "execute_result"
    }
   ],
   "source": [
    "tags.shape"
   ]
  },
  {
   "cell_type": "code",
   "execution_count": 7,
   "id": "cffd9f2b-0d93-4b9e-9f0d-cc04bda77ac2",
   "metadata": {},
   "outputs": [
    {
     "data": {
      "text/plain": [
       "(1589,)"
      ]
     },
     "execution_count": 7,
     "metadata": {},
     "output_type": "execute_result"
    }
   ],
   "source": [
    "tags.tag.unique().shape"
   ]
  },
  {
   "cell_type": "code",
   "execution_count": 8,
   "id": "41d2a25e-9d22-4650-bb4b-d3ebcf35a393",
   "metadata": {},
   "outputs": [
    {
     "data": {
      "text/plain": [
       "(1572,)"
      ]
     },
     "execution_count": 8,
     "metadata": {},
     "output_type": "execute_result"
    }
   ],
   "source": [
    "tags.movieId.unique().shape"
   ]
  },
  {
   "cell_type": "code",
   "execution_count": 9,
   "id": "da0f3645-4a6a-4cb5-8f11-dc30b8210e39",
   "metadata": {},
   "outputs": [
    {
     "data": {
      "text/plain": [
       "(58,)"
      ]
     },
     "execution_count": 9,
     "metadata": {},
     "output_type": "execute_result"
    }
   ],
   "source": [
    "tags.userId.unique().shape"
   ]
  },
  {
   "cell_type": "markdown",
   "id": "2d6aec8a-36b8-4cd7-8614-97a03ddd50ff",
   "metadata": {},
   "source": [
    "- 58 пользователей проставили теги 1572 фильмам.\n",
    "- Всего было проставлено тегов: 3683.\n",
    "- Из них уникальных тегов: 1589."
   ]
  },
  {
   "cell_type": "code",
   "execution_count": 10,
   "id": "308e1296-63aa-4832-a2e2-c059d2191e6e",
   "metadata": {},
   "outputs": [
    {
     "data": {
      "text/html": [
       "<div>\n",
       "<style scoped>\n",
       "    .dataframe tbody tr th:only-of-type {\n",
       "        vertical-align: middle;\n",
       "    }\n",
       "\n",
       "    .dataframe tbody tr th {\n",
       "        vertical-align: top;\n",
       "    }\n",
       "\n",
       "    .dataframe thead th {\n",
       "        text-align: right;\n",
       "    }\n",
       "</style>\n",
       "<table border=\"1\" class=\"dataframe\">\n",
       "  <thead>\n",
       "    <tr style=\"text-align: right;\">\n",
       "      <th></th>\n",
       "      <th>movieId</th>\n",
       "      <th>title</th>\n",
       "      <th>genres</th>\n",
       "    </tr>\n",
       "  </thead>\n",
       "  <tbody>\n",
       "    <tr>\n",
       "      <th>0</th>\n",
       "      <td>1</td>\n",
       "      <td>Toy Story (1995)</td>\n",
       "      <td>Adventure|Animation|Children|Comedy|Fantasy</td>\n",
       "    </tr>\n",
       "    <tr>\n",
       "      <th>1</th>\n",
       "      <td>2</td>\n",
       "      <td>Jumanji (1995)</td>\n",
       "      <td>Adventure|Children|Fantasy</td>\n",
       "    </tr>\n",
       "    <tr>\n",
       "      <th>2</th>\n",
       "      <td>3</td>\n",
       "      <td>Grumpier Old Men (1995)</td>\n",
       "      <td>Comedy|Romance</td>\n",
       "    </tr>\n",
       "    <tr>\n",
       "      <th>3</th>\n",
       "      <td>4</td>\n",
       "      <td>Waiting to Exhale (1995)</td>\n",
       "      <td>Comedy|Drama|Romance</td>\n",
       "    </tr>\n",
       "    <tr>\n",
       "      <th>4</th>\n",
       "      <td>5</td>\n",
       "      <td>Father of the Bride Part II (1995)</td>\n",
       "      <td>Comedy</td>\n",
       "    </tr>\n",
       "  </tbody>\n",
       "</table>\n",
       "</div>"
      ],
      "text/plain": [
       "   movieId                               title  \\\n",
       "0        1                    Toy Story (1995)   \n",
       "1        2                      Jumanji (1995)   \n",
       "2        3             Grumpier Old Men (1995)   \n",
       "3        4            Waiting to Exhale (1995)   \n",
       "4        5  Father of the Bride Part II (1995)   \n",
       "\n",
       "                                        genres  \n",
       "0  Adventure|Animation|Children|Comedy|Fantasy  \n",
       "1                   Adventure|Children|Fantasy  \n",
       "2                               Comedy|Romance  \n",
       "3                         Comedy|Drama|Romance  \n",
       "4                                       Comedy  "
      ]
     },
     "execution_count": 10,
     "metadata": {},
     "output_type": "execute_result"
    }
   ],
   "source": [
    "movies.head()"
   ]
  },
  {
   "cell_type": "code",
   "execution_count": 11,
   "id": "4dd168fe-7d3a-482a-9c67-2c1fae0152ad",
   "metadata": {},
   "outputs": [
    {
     "data": {
      "text/plain": [
       "(100836, 4)"
      ]
     },
     "execution_count": 11,
     "metadata": {},
     "output_type": "execute_result"
    }
   ],
   "source": [
    "ratings.shape"
   ]
  },
  {
   "cell_type": "code",
   "execution_count": 12,
   "id": "96dbd093-945a-4cb7-90e3-536f3c9c1575",
   "metadata": {},
   "outputs": [
    {
     "data": {
      "text/plain": [
       "(9724,)"
      ]
     },
     "execution_count": 12,
     "metadata": {},
     "output_type": "execute_result"
    }
   ],
   "source": [
    "ratings.movieId.unique().shape"
   ]
  },
  {
   "cell_type": "code",
   "execution_count": 13,
   "id": "7ef73c5f-57ab-4184-afd8-61036c0dbeba",
   "metadata": {},
   "outputs": [
    {
     "data": {
      "text/plain": [
       "(610,)"
      ]
     },
     "execution_count": 13,
     "metadata": {},
     "output_type": "execute_result"
    }
   ],
   "source": [
    "ratings.userId.unique().shape"
   ]
  },
  {
   "cell_type": "markdown",
   "id": "1c3a8d6d-cc85-4267-a570-365372ca7ab6",
   "metadata": {},
   "source": [
    "- 610 пользователей поставили оценку фильму.\n",
    "- Получили оценку всего 9724 фильма."
   ]
  },
  {
   "cell_type": "markdown",
   "id": "31ecc511-db6c-4ef1-8b23-0834d01427fe",
   "metadata": {},
   "source": [
    "### Задаем неодбходимые функции"
   ]
  },
  {
   "cell_type": "code",
   "execution_count": 34,
   "id": "64393748-1896-4915-b0dd-7d3f823d652c",
   "metadata": {},
   "outputs": [],
   "source": [
    "def change_string(s: str)-> str:\n",
    "    \"\"\"Удаляет из строки пробелы и дефисы\"\"\"\n",
    "    return str(s).replace(' ', '').replace('-', '')"
   ]
  },
  {
   "cell_type": "markdown",
   "id": "fbd9f936-5f23-4e0c-b8db-d2725db72da7",
   "metadata": {},
   "source": [
    "### Работаем с товаром (фильмы):"
   ]
  },
  {
   "cell_type": "markdown",
   "id": "95fe887f-b73e-403b-8172-ef0a14f2be4e",
   "metadata": {},
   "source": [
    "#### TF-IDF-преобразование тегов"
   ]
  },
  {
   "cell_type": "code",
   "execution_count": 14,
   "id": "c9b7b926-c2f4-4726-98ce-04b539f684ff",
   "metadata": {},
   "outputs": [
    {
     "data": {
      "text/html": [
       "<div>\n",
       "<style scoped>\n",
       "    .dataframe tbody tr th:only-of-type {\n",
       "        vertical-align: middle;\n",
       "    }\n",
       "\n",
       "    .dataframe tbody tr th {\n",
       "        vertical-align: top;\n",
       "    }\n",
       "\n",
       "    .dataframe thead th {\n",
       "        text-align: right;\n",
       "    }\n",
       "</style>\n",
       "<table border=\"1\" class=\"dataframe\">\n",
       "  <thead>\n",
       "    <tr style=\"text-align: right;\">\n",
       "      <th></th>\n",
       "      <th>movieId</th>\n",
       "      <th>tag</th>\n",
       "    </tr>\n",
       "  </thead>\n",
       "  <tbody>\n",
       "    <tr>\n",
       "      <th>0</th>\n",
       "      <td>1</td>\n",
       "      <td>pixar</td>\n",
       "    </tr>\n",
       "    <tr>\n",
       "      <th>1</th>\n",
       "      <td>1</td>\n",
       "      <td>pixar</td>\n",
       "    </tr>\n",
       "    <tr>\n",
       "      <th>2</th>\n",
       "      <td>1</td>\n",
       "      <td>fun</td>\n",
       "    </tr>\n",
       "    <tr>\n",
       "      <th>3</th>\n",
       "      <td>2</td>\n",
       "      <td>fantasy</td>\n",
       "    </tr>\n",
       "    <tr>\n",
       "      <th>4</th>\n",
       "      <td>2</td>\n",
       "      <td>magic board game</td>\n",
       "    </tr>\n",
       "  </tbody>\n",
       "</table>\n",
       "</div>"
      ],
      "text/plain": [
       "   movieId               tag\n",
       "0        1             pixar\n",
       "1        1             pixar\n",
       "2        1               fun\n",
       "3        2           fantasy\n",
       "4        2  magic board game"
      ]
     },
     "execution_count": 14,
     "metadata": {},
     "output_type": "execute_result"
    }
   ],
   "source": [
    "# Добваляем к тегам названия фильмов\n",
    "movies_with_tags = movies.merge(tags, on='movieId')[['movieId', 'tag']]\n",
    "movies_with_tags.head()"
   ]
  },
  {
   "cell_type": "code",
   "execution_count": 27,
   "id": "a70ca31e-23d7-490c-811c-a4477c091a45",
   "metadata": {},
   "outputs": [
    {
     "data": {
      "text/html": [
       "<div>\n",
       "<style scoped>\n",
       "    .dataframe tbody tr th:only-of-type {\n",
       "        vertical-align: middle;\n",
       "    }\n",
       "\n",
       "    .dataframe tbody tr th {\n",
       "        vertical-align: top;\n",
       "    }\n",
       "\n",
       "    .dataframe thead th {\n",
       "        text-align: right;\n",
       "    }\n",
       "</style>\n",
       "<table border=\"1\" class=\"dataframe\">\n",
       "  <thead>\n",
       "    <tr style=\"text-align: right;\">\n",
       "      <th></th>\n",
       "      <th>movieId</th>\n",
       "      <th>tag</th>\n",
       "    </tr>\n",
       "  </thead>\n",
       "  <tbody>\n",
       "    <tr>\n",
       "      <th>0</th>\n",
       "      <td>1</td>\n",
       "      <td>pixar</td>\n",
       "    </tr>\n",
       "    <tr>\n",
       "      <th>1</th>\n",
       "      <td>1</td>\n",
       "      <td>pixar</td>\n",
       "    </tr>\n",
       "    <tr>\n",
       "      <th>2</th>\n",
       "      <td>1</td>\n",
       "      <td>fun</td>\n",
       "    </tr>\n",
       "    <tr>\n",
       "      <th>3</th>\n",
       "      <td>2</td>\n",
       "      <td>fantasy</td>\n",
       "    </tr>\n",
       "    <tr>\n",
       "      <th>4</th>\n",
       "      <td>2</td>\n",
       "      <td>magic board game</td>\n",
       "    </tr>\n",
       "    <tr>\n",
       "      <th>...</th>\n",
       "      <td>...</td>\n",
       "      <td>...</td>\n",
       "    </tr>\n",
       "    <tr>\n",
       "      <th>3678</th>\n",
       "      <td>187595</td>\n",
       "      <td>star wars</td>\n",
       "    </tr>\n",
       "    <tr>\n",
       "      <th>3679</th>\n",
       "      <td>193565</td>\n",
       "      <td>anime</td>\n",
       "    </tr>\n",
       "    <tr>\n",
       "      <th>3680</th>\n",
       "      <td>193565</td>\n",
       "      <td>comedy</td>\n",
       "    </tr>\n",
       "    <tr>\n",
       "      <th>3681</th>\n",
       "      <td>193565</td>\n",
       "      <td>gintama</td>\n",
       "    </tr>\n",
       "    <tr>\n",
       "      <th>3682</th>\n",
       "      <td>193565</td>\n",
       "      <td>remaster</td>\n",
       "    </tr>\n",
       "  </tbody>\n",
       "</table>\n",
       "<p>3247 rows × 2 columns</p>\n",
       "</div>"
      ],
      "text/plain": [
       "      movieId               tag\n",
       "0           1             pixar\n",
       "1           1             pixar\n",
       "2           1               fun\n",
       "3           2           fantasy\n",
       "4           2  magic board game\n",
       "...       ...               ...\n",
       "3678   187595         star wars\n",
       "3679   193565             anime\n",
       "3680   193565            comedy\n",
       "3681   193565           gintama\n",
       "3682   193565          remaster\n",
       "\n",
       "[3247 rows x 2 columns]"
      ]
     },
     "execution_count": 27,
     "metadata": {},
     "output_type": "execute_result"
    }
   ],
   "source": [
    "# Гриппируем по фильмам:\n",
    "title_groups = movies_with_tags.groupby('movieId')\n",
    "title_groups.head(10)"
   ]
  },
  {
   "cell_type": "code",
   "execution_count": 23,
   "id": "fd6c0cf9-495b-4eac-9669-685dcf2debb1",
   "metadata": {},
   "outputs": [],
   "source": [
    "# Создаем два списка: тегов и названий фильмов\n",
    "# Одновременно удаляем из строк пробелы и дефисы\n",
    "\n",
    "tags_lst = []\n",
    "movieId_lst = []\n",
    "\n",
    "for id, group in title_groups:\n",
    "    tags_lst.append(' '.join([change_string(s) for s in group.tag.values]))\n",
    "    movieId_lst.append(id)"
   ]
  },
  {
   "cell_type": "code",
   "execution_count": 24,
   "id": "f239351e-3712-4404-b7c0-2a8549514b63",
   "metadata": {},
   "outputs": [
    {
     "data": {
      "text/plain": [
       "['pixar pixar fun',\n",
       " 'fantasy magicboardgame RobinWilliams game',\n",
       " 'moldy old',\n",
       " 'pregnancy remake',\n",
       " 'remake']"
      ]
     },
     "execution_count": 24,
     "metadata": {},
     "output_type": "execute_result"
    }
   ],
   "source": [
    "tags_lst[:5]"
   ]
  },
  {
   "cell_type": "code",
   "execution_count": 25,
   "id": "b4fd50a3-aaea-44c9-a9d8-1687a331742f",
   "metadata": {},
   "outputs": [
    {
     "data": {
      "text/plain": [
       "[1, 2, 3, 5, 7]"
      ]
     },
     "execution_count": 25,
     "metadata": {},
     "output_type": "execute_result"
    }
   ],
   "source": [
    "movieId_lst[:5]"
   ]
  },
  {
   "cell_type": "code",
   "execution_count": null,
   "id": "d26cecf3-76ac-4e20-b050-7eb2b76fbddd",
   "metadata": {},
   "outputs": [],
   "source": []
  },
  {
   "cell_type": "code",
   "execution_count": 26,
   "id": "fcb5b303-960c-443a-a21e-415a232bd5c8",
   "metadata": {},
   "outputs": [
    {
     "data": {
      "text/plain": [
       "<1572x1472 sparse matrix of type '<class 'numpy.float64'>'\n",
       "\twith 3598 stored elements in Compressed Sparse Row format>"
      ]
     },
     "execution_count": 26,
     "metadata": {},
     "output_type": "execute_result"
    }
   ],
   "source": [
    "# На основе списка tags_lst создаем спарс-матрицу:\n",
    "tfidf_tag = TfidfVectorizer()\n",
    "X_train_tfidf_tag = tfidf_tag.fit_transform(tags_lst)\n",
    "X_train_tfidf_tag"
   ]
  },
  {
   "cell_type": "code",
   "execution_count": 32,
   "id": "02ae82bc-fd0f-4e12-ae43-dddb31c63032",
   "metadata": {},
   "outputs": [],
   "source": [
    "# Преобразование спар-матирцы в датафрейм:\n",
    "tfidf_tag_df = pd.DataFrame(X_train_tfidf_tag.toarray(), columns=tfidf_tag.get_feature_names_out())"
   ]
  },
  {
   "cell_type": "code",
   "execution_count": 33,
   "id": "dfe4b9cd-8997-4e2f-9768-fbd492e71a9a",
   "metadata": {},
   "outputs": [
    {
     "data": {
      "text/html": [
       "<div>\n",
       "<style scoped>\n",
       "    .dataframe tbody tr th:only-of-type {\n",
       "        vertical-align: middle;\n",
       "    }\n",
       "\n",
       "    .dataframe tbody tr th {\n",
       "        vertical-align: top;\n",
       "    }\n",
       "\n",
       "    .dataframe thead th {\n",
       "        text-align: right;\n",
       "    }\n",
       "</style>\n",
       "<table border=\"1\" class=\"dataframe\">\n",
       "  <thead>\n",
       "    <tr style=\"text-align: right;\">\n",
       "      <th></th>\n",
       "      <th>06oscarnominatedbestmovieanimation</th>\n",
       "      <th>1900s</th>\n",
       "      <th>1920s</th>\n",
       "      <th>1950s</th>\n",
       "      <th>1960s</th>\n",
       "      <th>1970s</th>\n",
       "      <th>1980s</th>\n",
       "      <th>1990s</th>\n",
       "      <th>2001like</th>\n",
       "      <th>2danimation</th>\n",
       "      <th>...</th>\n",
       "      <th>worldwarii</th>\n",
       "      <th>writing</th>\n",
       "      <th>wrongfulimprisonment</th>\n",
       "      <th>wry</th>\n",
       "      <th>youngermen</th>\n",
       "      <th>zither</th>\n",
       "      <th>zoekazan</th>\n",
       "      <th>zombies</th>\n",
       "      <th>zooeydeschanel</th>\n",
       "      <th>movieId</th>\n",
       "    </tr>\n",
       "  </thead>\n",
       "  <tbody>\n",
       "    <tr>\n",
       "      <th>0</th>\n",
       "      <td>0.0</td>\n",
       "      <td>0.0</td>\n",
       "      <td>0.0</td>\n",
       "      <td>0.0</td>\n",
       "      <td>0.0</td>\n",
       "      <td>0.0</td>\n",
       "      <td>0.0</td>\n",
       "      <td>0.0</td>\n",
       "      <td>0.0</td>\n",
       "      <td>0.0</td>\n",
       "      <td>...</td>\n",
       "      <td>0.0</td>\n",
       "      <td>0.0</td>\n",
       "      <td>0.0</td>\n",
       "      <td>0.0</td>\n",
       "      <td>0.0</td>\n",
       "      <td>0.0</td>\n",
       "      <td>0.0</td>\n",
       "      <td>0.0</td>\n",
       "      <td>0.0</td>\n",
       "      <td>1</td>\n",
       "    </tr>\n",
       "    <tr>\n",
       "      <th>1</th>\n",
       "      <td>0.0</td>\n",
       "      <td>0.0</td>\n",
       "      <td>0.0</td>\n",
       "      <td>0.0</td>\n",
       "      <td>0.0</td>\n",
       "      <td>0.0</td>\n",
       "      <td>0.0</td>\n",
       "      <td>0.0</td>\n",
       "      <td>0.0</td>\n",
       "      <td>0.0</td>\n",
       "      <td>...</td>\n",
       "      <td>0.0</td>\n",
       "      <td>0.0</td>\n",
       "      <td>0.0</td>\n",
       "      <td>0.0</td>\n",
       "      <td>0.0</td>\n",
       "      <td>0.0</td>\n",
       "      <td>0.0</td>\n",
       "      <td>0.0</td>\n",
       "      <td>0.0</td>\n",
       "      <td>2</td>\n",
       "    </tr>\n",
       "    <tr>\n",
       "      <th>2</th>\n",
       "      <td>0.0</td>\n",
       "      <td>0.0</td>\n",
       "      <td>0.0</td>\n",
       "      <td>0.0</td>\n",
       "      <td>0.0</td>\n",
       "      <td>0.0</td>\n",
       "      <td>0.0</td>\n",
       "      <td>0.0</td>\n",
       "      <td>0.0</td>\n",
       "      <td>0.0</td>\n",
       "      <td>...</td>\n",
       "      <td>0.0</td>\n",
       "      <td>0.0</td>\n",
       "      <td>0.0</td>\n",
       "      <td>0.0</td>\n",
       "      <td>0.0</td>\n",
       "      <td>0.0</td>\n",
       "      <td>0.0</td>\n",
       "      <td>0.0</td>\n",
       "      <td>0.0</td>\n",
       "      <td>3</td>\n",
       "    </tr>\n",
       "    <tr>\n",
       "      <th>3</th>\n",
       "      <td>0.0</td>\n",
       "      <td>0.0</td>\n",
       "      <td>0.0</td>\n",
       "      <td>0.0</td>\n",
       "      <td>0.0</td>\n",
       "      <td>0.0</td>\n",
       "      <td>0.0</td>\n",
       "      <td>0.0</td>\n",
       "      <td>0.0</td>\n",
       "      <td>0.0</td>\n",
       "      <td>...</td>\n",
       "      <td>0.0</td>\n",
       "      <td>0.0</td>\n",
       "      <td>0.0</td>\n",
       "      <td>0.0</td>\n",
       "      <td>0.0</td>\n",
       "      <td>0.0</td>\n",
       "      <td>0.0</td>\n",
       "      <td>0.0</td>\n",
       "      <td>0.0</td>\n",
       "      <td>5</td>\n",
       "    </tr>\n",
       "    <tr>\n",
       "      <th>4</th>\n",
       "      <td>0.0</td>\n",
       "      <td>0.0</td>\n",
       "      <td>0.0</td>\n",
       "      <td>0.0</td>\n",
       "      <td>0.0</td>\n",
       "      <td>0.0</td>\n",
       "      <td>0.0</td>\n",
       "      <td>0.0</td>\n",
       "      <td>0.0</td>\n",
       "      <td>0.0</td>\n",
       "      <td>...</td>\n",
       "      <td>0.0</td>\n",
       "      <td>0.0</td>\n",
       "      <td>0.0</td>\n",
       "      <td>0.0</td>\n",
       "      <td>0.0</td>\n",
       "      <td>0.0</td>\n",
       "      <td>0.0</td>\n",
       "      <td>0.0</td>\n",
       "      <td>0.0</td>\n",
       "      <td>7</td>\n",
       "    </tr>\n",
       "  </tbody>\n",
       "</table>\n",
       "<p>5 rows × 1473 columns</p>\n",
       "</div>"
      ],
      "text/plain": [
       "   06oscarnominatedbestmovieanimation  1900s  1920s  1950s  1960s  1970s  \\\n",
       "0                                 0.0    0.0    0.0    0.0    0.0    0.0   \n",
       "1                                 0.0    0.0    0.0    0.0    0.0    0.0   \n",
       "2                                 0.0    0.0    0.0    0.0    0.0    0.0   \n",
       "3                                 0.0    0.0    0.0    0.0    0.0    0.0   \n",
       "4                                 0.0    0.0    0.0    0.0    0.0    0.0   \n",
       "\n",
       "   1980s  1990s  2001like  2danimation  ...  worldwarii  writing  \\\n",
       "0    0.0    0.0       0.0          0.0  ...         0.0      0.0   \n",
       "1    0.0    0.0       0.0          0.0  ...         0.0      0.0   \n",
       "2    0.0    0.0       0.0          0.0  ...         0.0      0.0   \n",
       "3    0.0    0.0       0.0          0.0  ...         0.0      0.0   \n",
       "4    0.0    0.0       0.0          0.0  ...         0.0      0.0   \n",
       "\n",
       "   wrongfulimprisonment  wry  youngermen  zither  zoekazan  zombies  \\\n",
       "0                   0.0  0.0         0.0     0.0       0.0      0.0   \n",
       "1                   0.0  0.0         0.0     0.0       0.0      0.0   \n",
       "2                   0.0  0.0         0.0     0.0       0.0      0.0   \n",
       "3                   0.0  0.0         0.0     0.0       0.0      0.0   \n",
       "4                   0.0  0.0         0.0     0.0       0.0      0.0   \n",
       "\n",
       "   zooeydeschanel  movieId  \n",
       "0             0.0        1  \n",
       "1             0.0        2  \n",
       "2             0.0        3  \n",
       "3             0.0        5  \n",
       "4             0.0        7  \n",
       "\n",
       "[5 rows x 1473 columns]"
      ]
     },
     "execution_count": 33,
     "metadata": {},
     "output_type": "execute_result"
    }
   ],
   "source": [
    "# Добавление в датафрейм столбца 'movieId'\n",
    "tfidf_tag_df['movieId'] = movieId_lst\n",
    "tfidf_tag_df.head()"
   ]
  },
  {
   "cell_type": "markdown",
   "id": "04093335-48bd-4017-b409-95a80ac9f21f",
   "metadata": {},
   "source": [
    "#### TF-IDF-преобразование жанров"
   ]
  },
  {
   "cell_type": "code",
   "execution_count": 87,
   "id": "106ee908-1a6e-48e3-9aaa-2beb0244e426",
   "metadata": {},
   "outputs": [],
   "source": [
    "# Создаем список жанров каждого из фильмов:\n",
    "# Одновременно удаляем прбелы и дефисы в строках\n",
    "genres_lst = []\n",
    "movieId_lst = []\n",
    "\n",
    "for index, row in movies.iterrows():\n",
    "    movieId_lst.append(row['movieId'])\n",
    "    genres_lst.append(row['genres'])"
   ]
  },
  {
   "cell_type": "code",
   "execution_count": 88,
   "id": "93e15317-9bf3-4551-8035-5f1f4bb5469b",
   "metadata": {},
   "outputs": [
    {
     "data": {
      "text/plain": [
       "['Adventure|Animation|Children|Comedy|Fantasy',\n",
       " 'Adventure|Children|Fantasy',\n",
       " 'Comedy|Romance',\n",
       " 'Comedy|Drama|Romance',\n",
       " 'Comedy']"
      ]
     },
     "execution_count": 88,
     "metadata": {},
     "output_type": "execute_result"
    }
   ],
   "source": [
    "genres_lst[:5]"
   ]
  },
  {
   "cell_type": "code",
   "execution_count": 89,
   "id": "a704bb56-f93f-4c2a-ae96-d63a97224ad3",
   "metadata": {},
   "outputs": [
    {
     "data": {
      "text/plain": [
       "[1, 2, 3, 4, 5]"
      ]
     },
     "execution_count": 89,
     "metadata": {},
     "output_type": "execute_result"
    }
   ],
   "source": [
    "movieId_lst[:5]"
   ]
  },
  {
   "cell_type": "code",
   "execution_count": 90,
   "id": "dd4c360f-191c-455c-9337-847a91bf5832",
   "metadata": {},
   "outputs": [
    {
     "data": {
      "text/plain": [
       "<9742x24 sparse matrix of type '<class 'numpy.float64'>'\n",
       "\twith 23219 stored elements in Compressed Sparse Row format>"
      ]
     },
     "execution_count": 90,
     "metadata": {},
     "output_type": "execute_result"
    }
   ],
   "source": [
    "# На основе списка tags_lst создаем спарс-матрицу:\n",
    "tfidf_genres = TfidfVectorizer()\n",
    "X_train_tfidf_genres = tfidf_genres.fit_transform(genres_lst)\n",
    "X_train_tfidf_genres"
   ]
  },
  {
   "cell_type": "code",
   "execution_count": 91,
   "id": "248bcbbe-6989-46bb-a198-e5739d69a287",
   "metadata": {},
   "outputs": [],
   "source": [
    "# Преобразование спар-матирцы в датафрейм:\n",
    "tfidf_genres_df = pd.DataFrame(X_train_tfidf_genres.toarray(), columns=tfidf_genres.get_feature_names_out())"
   ]
  },
  {
   "cell_type": "code",
   "execution_count": 93,
   "id": "c30a9d7b-7764-41e6-882c-43fc06444572",
   "metadata": {},
   "outputs": [
    {
     "data": {
      "text/html": [
       "<div>\n",
       "<style scoped>\n",
       "    .dataframe tbody tr th:only-of-type {\n",
       "        vertical-align: middle;\n",
       "    }\n",
       "\n",
       "    .dataframe tbody tr th {\n",
       "        vertical-align: top;\n",
       "    }\n",
       "\n",
       "    .dataframe thead th {\n",
       "        text-align: right;\n",
       "    }\n",
       "</style>\n",
       "<table border=\"1\" class=\"dataframe\">\n",
       "  <thead>\n",
       "    <tr style=\"text-align: right;\">\n",
       "      <th></th>\n",
       "      <th>action</th>\n",
       "      <th>adventure</th>\n",
       "      <th>animation</th>\n",
       "      <th>children</th>\n",
       "      <th>comedy</th>\n",
       "      <th>crime</th>\n",
       "      <th>documentary</th>\n",
       "      <th>drama</th>\n",
       "      <th>fantasy</th>\n",
       "      <th>fi</th>\n",
       "      <th>...</th>\n",
       "      <th>musical</th>\n",
       "      <th>mystery</th>\n",
       "      <th>no</th>\n",
       "      <th>noir</th>\n",
       "      <th>romance</th>\n",
       "      <th>sci</th>\n",
       "      <th>thriller</th>\n",
       "      <th>war</th>\n",
       "      <th>western</th>\n",
       "      <th>movieId</th>\n",
       "    </tr>\n",
       "  </thead>\n",
       "  <tbody>\n",
       "    <tr>\n",
       "      <th>0</th>\n",
       "      <td>0.0</td>\n",
       "      <td>0.416846</td>\n",
       "      <td>0.516225</td>\n",
       "      <td>0.504845</td>\n",
       "      <td>0.267586</td>\n",
       "      <td>0.0</td>\n",
       "      <td>0.0</td>\n",
       "      <td>0.000000</td>\n",
       "      <td>0.482990</td>\n",
       "      <td>0.0</td>\n",
       "      <td>...</td>\n",
       "      <td>0.0</td>\n",
       "      <td>0.0</td>\n",
       "      <td>0.0</td>\n",
       "      <td>0.0</td>\n",
       "      <td>0.000000</td>\n",
       "      <td>0.0</td>\n",
       "      <td>0.0</td>\n",
       "      <td>0.0</td>\n",
       "      <td>0.0</td>\n",
       "      <td>1</td>\n",
       "    </tr>\n",
       "    <tr>\n",
       "      <th>1</th>\n",
       "      <td>0.0</td>\n",
       "      <td>0.512361</td>\n",
       "      <td>0.000000</td>\n",
       "      <td>0.620525</td>\n",
       "      <td>0.000000</td>\n",
       "      <td>0.0</td>\n",
       "      <td>0.0</td>\n",
       "      <td>0.000000</td>\n",
       "      <td>0.593662</td>\n",
       "      <td>0.0</td>\n",
       "      <td>...</td>\n",
       "      <td>0.0</td>\n",
       "      <td>0.0</td>\n",
       "      <td>0.0</td>\n",
       "      <td>0.0</td>\n",
       "      <td>0.000000</td>\n",
       "      <td>0.0</td>\n",
       "      <td>0.0</td>\n",
       "      <td>0.0</td>\n",
       "      <td>0.0</td>\n",
       "      <td>2</td>\n",
       "    </tr>\n",
       "    <tr>\n",
       "      <th>2</th>\n",
       "      <td>0.0</td>\n",
       "      <td>0.000000</td>\n",
       "      <td>0.000000</td>\n",
       "      <td>0.000000</td>\n",
       "      <td>0.570915</td>\n",
       "      <td>0.0</td>\n",
       "      <td>0.0</td>\n",
       "      <td>0.000000</td>\n",
       "      <td>0.000000</td>\n",
       "      <td>0.0</td>\n",
       "      <td>...</td>\n",
       "      <td>0.0</td>\n",
       "      <td>0.0</td>\n",
       "      <td>0.0</td>\n",
       "      <td>0.0</td>\n",
       "      <td>0.821009</td>\n",
       "      <td>0.0</td>\n",
       "      <td>0.0</td>\n",
       "      <td>0.0</td>\n",
       "      <td>0.0</td>\n",
       "      <td>3</td>\n",
       "    </tr>\n",
       "    <tr>\n",
       "      <th>3</th>\n",
       "      <td>0.0</td>\n",
       "      <td>0.000000</td>\n",
       "      <td>0.000000</td>\n",
       "      <td>0.000000</td>\n",
       "      <td>0.505015</td>\n",
       "      <td>0.0</td>\n",
       "      <td>0.0</td>\n",
       "      <td>0.466405</td>\n",
       "      <td>0.000000</td>\n",
       "      <td>0.0</td>\n",
       "      <td>...</td>\n",
       "      <td>0.0</td>\n",
       "      <td>0.0</td>\n",
       "      <td>0.0</td>\n",
       "      <td>0.0</td>\n",
       "      <td>0.726241</td>\n",
       "      <td>0.0</td>\n",
       "      <td>0.0</td>\n",
       "      <td>0.0</td>\n",
       "      <td>0.0</td>\n",
       "      <td>4</td>\n",
       "    </tr>\n",
       "    <tr>\n",
       "      <th>4</th>\n",
       "      <td>0.0</td>\n",
       "      <td>0.000000</td>\n",
       "      <td>0.000000</td>\n",
       "      <td>0.000000</td>\n",
       "      <td>1.000000</td>\n",
       "      <td>0.0</td>\n",
       "      <td>0.0</td>\n",
       "      <td>0.000000</td>\n",
       "      <td>0.000000</td>\n",
       "      <td>0.0</td>\n",
       "      <td>...</td>\n",
       "      <td>0.0</td>\n",
       "      <td>0.0</td>\n",
       "      <td>0.0</td>\n",
       "      <td>0.0</td>\n",
       "      <td>0.000000</td>\n",
       "      <td>0.0</td>\n",
       "      <td>0.0</td>\n",
       "      <td>0.0</td>\n",
       "      <td>0.0</td>\n",
       "      <td>5</td>\n",
       "    </tr>\n",
       "  </tbody>\n",
       "</table>\n",
       "<p>5 rows × 25 columns</p>\n",
       "</div>"
      ],
      "text/plain": [
       "   action  adventure  animation  children    comedy  crime  documentary  \\\n",
       "0     0.0   0.416846   0.516225  0.504845  0.267586    0.0          0.0   \n",
       "1     0.0   0.512361   0.000000  0.620525  0.000000    0.0          0.0   \n",
       "2     0.0   0.000000   0.000000  0.000000  0.570915    0.0          0.0   \n",
       "3     0.0   0.000000   0.000000  0.000000  0.505015    0.0          0.0   \n",
       "4     0.0   0.000000   0.000000  0.000000  1.000000    0.0          0.0   \n",
       "\n",
       "      drama   fantasy   fi  ...  musical mystery   no  noir   romance  sci  \\\n",
       "0  0.000000  0.482990  0.0  ...      0.0     0.0  0.0   0.0  0.000000  0.0   \n",
       "1  0.000000  0.593662  0.0  ...      0.0     0.0  0.0   0.0  0.000000  0.0   \n",
       "2  0.000000  0.000000  0.0  ...      0.0     0.0  0.0   0.0  0.821009  0.0   \n",
       "3  0.466405  0.000000  0.0  ...      0.0     0.0  0.0   0.0  0.726241  0.0   \n",
       "4  0.000000  0.000000  0.0  ...      0.0     0.0  0.0   0.0  0.000000  0.0   \n",
       "\n",
       "   thriller  war  western  movieId  \n",
       "0       0.0  0.0      0.0        1  \n",
       "1       0.0  0.0      0.0        2  \n",
       "2       0.0  0.0      0.0        3  \n",
       "3       0.0  0.0      0.0        4  \n",
       "4       0.0  0.0      0.0        5  \n",
       "\n",
       "[5 rows x 25 columns]"
      ]
     },
     "execution_count": 93,
     "metadata": {},
     "output_type": "execute_result"
    }
   ],
   "source": [
    "# Добавление в датафрейм столбца 'movieId'\n",
    "tfidf_genres_df['movieId'] = movieId_lst\n",
    "tfidf_genres_df.head()"
   ]
  },
  {
   "cell_type": "code",
   "execution_count": 94,
   "id": "fc5af9ef-e896-43ce-9522-a198fca24d75",
   "metadata": {},
   "outputs": [
    {
     "data": {
      "text/plain": [
       "(9742, 25)"
      ]
     },
     "execution_count": 94,
     "metadata": {},
     "output_type": "execute_result"
    }
   ],
   "source": [
    "tfidf_genres_df.shape"
   ]
  },
  {
   "cell_type": "code",
   "execution_count": 96,
   "id": "7061b4e4-c978-472d-832a-06d9bf24c855",
   "metadata": {},
   "outputs": [
    {
     "data": {
      "text/plain": [
       "(1572, 1473)"
      ]
     },
     "execution_count": 96,
     "metadata": {},
     "output_type": "execute_result"
    }
   ],
   "source": [
    "tfidf_tag_df.shape"
   ]
  },
  {
   "cell_type": "markdown",
   "id": "9e3ede75-8cc0-4599-8d4b-b8c0a18cd0d1",
   "metadata": {},
   "source": [
    "#### Объединим полученные датафреймы"
   ]
  },
  {
   "cell_type": "code",
   "execution_count": 102,
   "id": "c4095cb6-ebd9-4d7a-81d9-4c602e4cd040",
   "metadata": {},
   "outputs": [
    {
     "data": {
      "text/html": [
       "<div>\n",
       "<style scoped>\n",
       "    .dataframe tbody tr th:only-of-type {\n",
       "        vertical-align: middle;\n",
       "    }\n",
       "\n",
       "    .dataframe tbody tr th {\n",
       "        vertical-align: top;\n",
       "    }\n",
       "\n",
       "    .dataframe thead th {\n",
       "        text-align: right;\n",
       "    }\n",
       "</style>\n",
       "<table border=\"1\" class=\"dataframe\">\n",
       "  <thead>\n",
       "    <tr style=\"text-align: right;\">\n",
       "      <th></th>\n",
       "      <th>action_x</th>\n",
       "      <th>adventure_x</th>\n",
       "      <th>animation_x</th>\n",
       "      <th>children_x</th>\n",
       "      <th>comedy_x</th>\n",
       "      <th>crime_x</th>\n",
       "      <th>documentary_x</th>\n",
       "      <th>drama_x</th>\n",
       "      <th>fantasy_x</th>\n",
       "      <th>fi</th>\n",
       "      <th>...</th>\n",
       "      <th>worldwari</th>\n",
       "      <th>worldwarii</th>\n",
       "      <th>writing</th>\n",
       "      <th>wrongfulimprisonment</th>\n",
       "      <th>wry</th>\n",
       "      <th>youngermen</th>\n",
       "      <th>zither</th>\n",
       "      <th>zoekazan</th>\n",
       "      <th>zombies</th>\n",
       "      <th>zooeydeschanel</th>\n",
       "    </tr>\n",
       "  </thead>\n",
       "  <tbody>\n",
       "    <tr>\n",
       "      <th>0</th>\n",
       "      <td>0.0</td>\n",
       "      <td>0.416846</td>\n",
       "      <td>0.516225</td>\n",
       "      <td>0.504845</td>\n",
       "      <td>0.267586</td>\n",
       "      <td>0.0</td>\n",
       "      <td>0.0</td>\n",
       "      <td>0.0</td>\n",
       "      <td>0.482990</td>\n",
       "      <td>0.0</td>\n",
       "      <td>...</td>\n",
       "      <td>0.0</td>\n",
       "      <td>0.0</td>\n",
       "      <td>0.0</td>\n",
       "      <td>0.0</td>\n",
       "      <td>0.0</td>\n",
       "      <td>0.0</td>\n",
       "      <td>0.0</td>\n",
       "      <td>0.0</td>\n",
       "      <td>0.0</td>\n",
       "      <td>0.0</td>\n",
       "    </tr>\n",
       "    <tr>\n",
       "      <th>1</th>\n",
       "      <td>0.0</td>\n",
       "      <td>0.512361</td>\n",
       "      <td>0.000000</td>\n",
       "      <td>0.620525</td>\n",
       "      <td>0.000000</td>\n",
       "      <td>0.0</td>\n",
       "      <td>0.0</td>\n",
       "      <td>0.0</td>\n",
       "      <td>0.593662</td>\n",
       "      <td>0.0</td>\n",
       "      <td>...</td>\n",
       "      <td>0.0</td>\n",
       "      <td>0.0</td>\n",
       "      <td>0.0</td>\n",
       "      <td>0.0</td>\n",
       "      <td>0.0</td>\n",
       "      <td>0.0</td>\n",
       "      <td>0.0</td>\n",
       "      <td>0.0</td>\n",
       "      <td>0.0</td>\n",
       "      <td>0.0</td>\n",
       "    </tr>\n",
       "    <tr>\n",
       "      <th>2</th>\n",
       "      <td>0.0</td>\n",
       "      <td>0.000000</td>\n",
       "      <td>0.000000</td>\n",
       "      <td>0.000000</td>\n",
       "      <td>0.570915</td>\n",
       "      <td>0.0</td>\n",
       "      <td>0.0</td>\n",
       "      <td>0.0</td>\n",
       "      <td>0.000000</td>\n",
       "      <td>0.0</td>\n",
       "      <td>...</td>\n",
       "      <td>0.0</td>\n",
       "      <td>0.0</td>\n",
       "      <td>0.0</td>\n",
       "      <td>0.0</td>\n",
       "      <td>0.0</td>\n",
       "      <td>0.0</td>\n",
       "      <td>0.0</td>\n",
       "      <td>0.0</td>\n",
       "      <td>0.0</td>\n",
       "      <td>0.0</td>\n",
       "    </tr>\n",
       "    <tr>\n",
       "      <th>3</th>\n",
       "      <td>0.0</td>\n",
       "      <td>0.000000</td>\n",
       "      <td>0.000000</td>\n",
       "      <td>0.000000</td>\n",
       "      <td>1.000000</td>\n",
       "      <td>0.0</td>\n",
       "      <td>0.0</td>\n",
       "      <td>0.0</td>\n",
       "      <td>0.000000</td>\n",
       "      <td>0.0</td>\n",
       "      <td>...</td>\n",
       "      <td>0.0</td>\n",
       "      <td>0.0</td>\n",
       "      <td>0.0</td>\n",
       "      <td>0.0</td>\n",
       "      <td>0.0</td>\n",
       "      <td>0.0</td>\n",
       "      <td>0.0</td>\n",
       "      <td>0.0</td>\n",
       "      <td>0.0</td>\n",
       "      <td>0.0</td>\n",
       "    </tr>\n",
       "    <tr>\n",
       "      <th>4</th>\n",
       "      <td>0.0</td>\n",
       "      <td>0.000000</td>\n",
       "      <td>0.000000</td>\n",
       "      <td>0.000000</td>\n",
       "      <td>0.570915</td>\n",
       "      <td>0.0</td>\n",
       "      <td>0.0</td>\n",
       "      <td>0.0</td>\n",
       "      <td>0.000000</td>\n",
       "      <td>0.0</td>\n",
       "      <td>...</td>\n",
       "      <td>0.0</td>\n",
       "      <td>0.0</td>\n",
       "      <td>0.0</td>\n",
       "      <td>0.0</td>\n",
       "      <td>0.0</td>\n",
       "      <td>0.0</td>\n",
       "      <td>0.0</td>\n",
       "      <td>0.0</td>\n",
       "      <td>0.0</td>\n",
       "      <td>0.0</td>\n",
       "    </tr>\n",
       "  </tbody>\n",
       "</table>\n",
       "<p>5 rows × 1497 columns</p>\n",
       "</div>"
      ],
      "text/plain": [
       "   action_x  adventure_x  animation_x  children_x  comedy_x  crime_x  \\\n",
       "0       0.0     0.416846     0.516225    0.504845  0.267586      0.0   \n",
       "1       0.0     0.512361     0.000000    0.620525  0.000000      0.0   \n",
       "2       0.0     0.000000     0.000000    0.000000  0.570915      0.0   \n",
       "3       0.0     0.000000     0.000000    0.000000  1.000000      0.0   \n",
       "4       0.0     0.000000     0.000000    0.000000  0.570915      0.0   \n",
       "\n",
       "   documentary_x  drama_x  fantasy_x   fi  ...  worldwari worldwarii  writing  \\\n",
       "0            0.0      0.0   0.482990  0.0  ...        0.0        0.0      0.0   \n",
       "1            0.0      0.0   0.593662  0.0  ...        0.0        0.0      0.0   \n",
       "2            0.0      0.0   0.000000  0.0  ...        0.0        0.0      0.0   \n",
       "3            0.0      0.0   0.000000  0.0  ...        0.0        0.0      0.0   \n",
       "4            0.0      0.0   0.000000  0.0  ...        0.0        0.0      0.0   \n",
       "\n",
       "   wrongfulimprisonment  wry  youngermen  zither  zoekazan  zombies  \\\n",
       "0                   0.0  0.0         0.0     0.0       0.0      0.0   \n",
       "1                   0.0  0.0         0.0     0.0       0.0      0.0   \n",
       "2                   0.0  0.0         0.0     0.0       0.0      0.0   \n",
       "3                   0.0  0.0         0.0     0.0       0.0      0.0   \n",
       "4                   0.0  0.0         0.0     0.0       0.0      0.0   \n",
       "\n",
       "   zooeydeschanel  \n",
       "0             0.0  \n",
       "1             0.0  \n",
       "2             0.0  \n",
       "3             0.0  \n",
       "4             0.0  \n",
       "\n",
       "[5 rows x 1497 columns]"
      ]
     },
     "execution_count": 102,
     "metadata": {},
     "output_type": "execute_result"
    }
   ],
   "source": [
    "# Объединение датафреймов\n",
    "tfidf_df = tfidf_genres_df.merge(tfidf_tag_df, on='movieId')\n",
    "tfidf_df.head()"
   ]
  },
  {
   "cell_type": "code",
   "execution_count": 105,
   "id": "44443352-7a2a-4f15-b7ce-eec59cf9fbc4",
   "metadata": {},
   "outputs": [
    {
     "data": {
      "text/html": [
       "<div>\n",
       "<style scoped>\n",
       "    .dataframe tbody tr th:only-of-type {\n",
       "        vertical-align: middle;\n",
       "    }\n",
       "\n",
       "    .dataframe tbody tr th {\n",
       "        vertical-align: top;\n",
       "    }\n",
       "\n",
       "    .dataframe thead th {\n",
       "        text-align: right;\n",
       "    }\n",
       "</style>\n",
       "<table border=\"1\" class=\"dataframe\">\n",
       "  <thead>\n",
       "    <tr style=\"text-align: right;\">\n",
       "      <th></th>\n",
       "      <th>movieId</th>\n",
       "      <th>action_x</th>\n",
       "      <th>adventure_x</th>\n",
       "      <th>animation_x</th>\n",
       "      <th>children_x</th>\n",
       "      <th>comedy_x</th>\n",
       "      <th>crime_x</th>\n",
       "      <th>documentary_x</th>\n",
       "      <th>drama_x</th>\n",
       "      <th>fantasy_x</th>\n",
       "      <th>...</th>\n",
       "      <th>worldwari</th>\n",
       "      <th>worldwarii</th>\n",
       "      <th>writing</th>\n",
       "      <th>wrongfulimprisonment</th>\n",
       "      <th>wry</th>\n",
       "      <th>youngermen</th>\n",
       "      <th>zither</th>\n",
       "      <th>zoekazan</th>\n",
       "      <th>zombies</th>\n",
       "      <th>zooeydeschanel</th>\n",
       "    </tr>\n",
       "  </thead>\n",
       "  <tbody>\n",
       "    <tr>\n",
       "      <th>0</th>\n",
       "      <td>1</td>\n",
       "      <td>0.0</td>\n",
       "      <td>0.416846</td>\n",
       "      <td>0.516225</td>\n",
       "      <td>0.504845</td>\n",
       "      <td>0.267586</td>\n",
       "      <td>0.0</td>\n",
       "      <td>0.0</td>\n",
       "      <td>0.0</td>\n",
       "      <td>0.482990</td>\n",
       "      <td>...</td>\n",
       "      <td>0.0</td>\n",
       "      <td>0.0</td>\n",
       "      <td>0.0</td>\n",
       "      <td>0.0</td>\n",
       "      <td>0.0</td>\n",
       "      <td>0.0</td>\n",
       "      <td>0.0</td>\n",
       "      <td>0.0</td>\n",
       "      <td>0.0</td>\n",
       "      <td>0.0</td>\n",
       "    </tr>\n",
       "    <tr>\n",
       "      <th>1</th>\n",
       "      <td>2</td>\n",
       "      <td>0.0</td>\n",
       "      <td>0.512361</td>\n",
       "      <td>0.000000</td>\n",
       "      <td>0.620525</td>\n",
       "      <td>0.000000</td>\n",
       "      <td>0.0</td>\n",
       "      <td>0.0</td>\n",
       "      <td>0.0</td>\n",
       "      <td>0.593662</td>\n",
       "      <td>...</td>\n",
       "      <td>0.0</td>\n",
       "      <td>0.0</td>\n",
       "      <td>0.0</td>\n",
       "      <td>0.0</td>\n",
       "      <td>0.0</td>\n",
       "      <td>0.0</td>\n",
       "      <td>0.0</td>\n",
       "      <td>0.0</td>\n",
       "      <td>0.0</td>\n",
       "      <td>0.0</td>\n",
       "    </tr>\n",
       "    <tr>\n",
       "      <th>2</th>\n",
       "      <td>3</td>\n",
       "      <td>0.0</td>\n",
       "      <td>0.000000</td>\n",
       "      <td>0.000000</td>\n",
       "      <td>0.000000</td>\n",
       "      <td>0.570915</td>\n",
       "      <td>0.0</td>\n",
       "      <td>0.0</td>\n",
       "      <td>0.0</td>\n",
       "      <td>0.000000</td>\n",
       "      <td>...</td>\n",
       "      <td>0.0</td>\n",
       "      <td>0.0</td>\n",
       "      <td>0.0</td>\n",
       "      <td>0.0</td>\n",
       "      <td>0.0</td>\n",
       "      <td>0.0</td>\n",
       "      <td>0.0</td>\n",
       "      <td>0.0</td>\n",
       "      <td>0.0</td>\n",
       "      <td>0.0</td>\n",
       "    </tr>\n",
       "    <tr>\n",
       "      <th>3</th>\n",
       "      <td>5</td>\n",
       "      <td>0.0</td>\n",
       "      <td>0.000000</td>\n",
       "      <td>0.000000</td>\n",
       "      <td>0.000000</td>\n",
       "      <td>1.000000</td>\n",
       "      <td>0.0</td>\n",
       "      <td>0.0</td>\n",
       "      <td>0.0</td>\n",
       "      <td>0.000000</td>\n",
       "      <td>...</td>\n",
       "      <td>0.0</td>\n",
       "      <td>0.0</td>\n",
       "      <td>0.0</td>\n",
       "      <td>0.0</td>\n",
       "      <td>0.0</td>\n",
       "      <td>0.0</td>\n",
       "      <td>0.0</td>\n",
       "      <td>0.0</td>\n",
       "      <td>0.0</td>\n",
       "      <td>0.0</td>\n",
       "    </tr>\n",
       "    <tr>\n",
       "      <th>4</th>\n",
       "      <td>7</td>\n",
       "      <td>0.0</td>\n",
       "      <td>0.000000</td>\n",
       "      <td>0.000000</td>\n",
       "      <td>0.000000</td>\n",
       "      <td>0.570915</td>\n",
       "      <td>0.0</td>\n",
       "      <td>0.0</td>\n",
       "      <td>0.0</td>\n",
       "      <td>0.000000</td>\n",
       "      <td>...</td>\n",
       "      <td>0.0</td>\n",
       "      <td>0.0</td>\n",
       "      <td>0.0</td>\n",
       "      <td>0.0</td>\n",
       "      <td>0.0</td>\n",
       "      <td>0.0</td>\n",
       "      <td>0.0</td>\n",
       "      <td>0.0</td>\n",
       "      <td>0.0</td>\n",
       "      <td>0.0</td>\n",
       "    </tr>\n",
       "  </tbody>\n",
       "</table>\n",
       "<p>5 rows × 1497 columns</p>\n",
       "</div>"
      ],
      "text/plain": [
       "   movieId  action_x  adventure_x  animation_x  children_x  comedy_x  crime_x  \\\n",
       "0        1       0.0     0.416846     0.516225    0.504845  0.267586      0.0   \n",
       "1        2       0.0     0.512361     0.000000    0.620525  0.000000      0.0   \n",
       "2        3       0.0     0.000000     0.000000    0.000000  0.570915      0.0   \n",
       "3        5       0.0     0.000000     0.000000    0.000000  1.000000      0.0   \n",
       "4        7       0.0     0.000000     0.000000    0.000000  0.570915      0.0   \n",
       "\n",
       "   documentary_x  drama_x  fantasy_x  ...  worldwari  worldwarii writing  \\\n",
       "0            0.0      0.0   0.482990  ...        0.0         0.0     0.0   \n",
       "1            0.0      0.0   0.593662  ...        0.0         0.0     0.0   \n",
       "2            0.0      0.0   0.000000  ...        0.0         0.0     0.0   \n",
       "3            0.0      0.0   0.000000  ...        0.0         0.0     0.0   \n",
       "4            0.0      0.0   0.000000  ...        0.0         0.0     0.0   \n",
       "\n",
       "   wrongfulimprisonment  wry  youngermen  zither  zoekazan  zombies  \\\n",
       "0                   0.0  0.0         0.0     0.0       0.0      0.0   \n",
       "1                   0.0  0.0         0.0     0.0       0.0      0.0   \n",
       "2                   0.0  0.0         0.0     0.0       0.0      0.0   \n",
       "3                   0.0  0.0         0.0     0.0       0.0      0.0   \n",
       "4                   0.0  0.0         0.0     0.0       0.0      0.0   \n",
       "\n",
       "   zooeydeschanel  \n",
       "0             0.0  \n",
       "1             0.0  \n",
       "2             0.0  \n",
       "3             0.0  \n",
       "4             0.0  \n",
       "\n",
       "[5 rows x 1497 columns]"
      ]
     },
     "execution_count": 105,
     "metadata": {},
     "output_type": "execute_result"
    }
   ],
   "source": [
    "# Переместим столбец 'movieId' на первое место:\n",
    "temp = tfidf_df['movieId']\n",
    "tfidf_df = tfidf_df.drop('movieId', axis=1)\n",
    "tfidf_df.insert(0, 'movieId', temp)\n",
    "tfidf_df.head()"
   ]
  },
  {
   "cell_type": "markdown",
   "id": "40d7c8e3-a009-4d6f-a15c-6aa09088673c",
   "metadata": {},
   "source": [
    "#### Посчитаем, какое количество раз проставлялись каждому фильму теги"
   ]
  },
  {
   "cell_type": "code",
   "execution_count": 109,
   "id": "1edbbac2-c289-461b-9852-13784a4a9918",
   "metadata": {},
   "outputs": [
    {
     "data": {
      "text/plain": [
       "movieId\n",
       "1         3\n",
       "2         4\n",
       "3         2\n",
       "5         2\n",
       "7         1\n",
       "         ..\n",
       "183611    3\n",
       "184471    3\n",
       "187593    3\n",
       "187595    2\n",
       "193565    4\n",
       "Name: tag, Length: 1572, dtype: int64"
      ]
     },
     "execution_count": 109,
     "metadata": {},
     "output_type": "execute_result"
    }
   ],
   "source": [
    "tags.groupby('movieId')['tag'].count()"
   ]
  },
  {
   "cell_type": "markdown",
   "id": "243f1509-9089-4a88-b1cc-58dcb7b27080",
   "metadata": {},
   "source": [
    "Масшабирование метрики среднее значение рейтинга фильма"
   ]
  },
  {
   "cell_type": "code",
   "execution_count": 111,
   "id": "12208d4b-b9ec-4d76-ab9e-3e5537abbc22",
   "metadata": {},
   "outputs": [
    {
     "data": {
      "text/html": [
       "<div>\n",
       "<style scoped>\n",
       "    .dataframe tbody tr th:only-of-type {\n",
       "        vertical-align: middle;\n",
       "    }\n",
       "\n",
       "    .dataframe tbody tr th {\n",
       "        vertical-align: top;\n",
       "    }\n",
       "\n",
       "    .dataframe thead th {\n",
       "        text-align: right;\n",
       "    }\n",
       "</style>\n",
       "<table border=\"1\" class=\"dataframe\">\n",
       "  <thead>\n",
       "    <tr style=\"text-align: right;\">\n",
       "      <th></th>\n",
       "      <th>userId</th>\n",
       "      <th>movieId</th>\n",
       "      <th>rating</th>\n",
       "      <th>timestamp</th>\n",
       "      <th>title</th>\n",
       "      <th>genres</th>\n",
       "    </tr>\n",
       "  </thead>\n",
       "  <tbody>\n",
       "    <tr>\n",
       "      <th>0</th>\n",
       "      <td>1</td>\n",
       "      <td>1</td>\n",
       "      <td>4.0</td>\n",
       "      <td>964982703</td>\n",
       "      <td>Toy Story (1995)</td>\n",
       "      <td>Adventure|Animation|Children|Comedy|Fantasy</td>\n",
       "    </tr>\n",
       "    <tr>\n",
       "      <th>1</th>\n",
       "      <td>1</td>\n",
       "      <td>3</td>\n",
       "      <td>4.0</td>\n",
       "      <td>964981247</td>\n",
       "      <td>Grumpier Old Men (1995)</td>\n",
       "      <td>Comedy|Romance</td>\n",
       "    </tr>\n",
       "    <tr>\n",
       "      <th>2</th>\n",
       "      <td>1</td>\n",
       "      <td>6</td>\n",
       "      <td>4.0</td>\n",
       "      <td>964982224</td>\n",
       "      <td>Heat (1995)</td>\n",
       "      <td>Action|Crime|Thriller</td>\n",
       "    </tr>\n",
       "    <tr>\n",
       "      <th>3</th>\n",
       "      <td>1</td>\n",
       "      <td>47</td>\n",
       "      <td>5.0</td>\n",
       "      <td>964983815</td>\n",
       "      <td>Seven (a.k.a. Se7en) (1995)</td>\n",
       "      <td>Mystery|Thriller</td>\n",
       "    </tr>\n",
       "    <tr>\n",
       "      <th>4</th>\n",
       "      <td>1</td>\n",
       "      <td>50</td>\n",
       "      <td>5.0</td>\n",
       "      <td>964982931</td>\n",
       "      <td>Usual Suspects, The (1995)</td>\n",
       "      <td>Crime|Mystery|Thriller</td>\n",
       "    </tr>\n",
       "  </tbody>\n",
       "</table>\n",
       "</div>"
      ],
      "text/plain": [
       "   userId  movieId  rating  timestamp                        title  \\\n",
       "0       1        1     4.0  964982703             Toy Story (1995)   \n",
       "1       1        3     4.0  964981247      Grumpier Old Men (1995)   \n",
       "2       1        6     4.0  964982224                  Heat (1995)   \n",
       "3       1       47     5.0  964983815  Seven (a.k.a. Se7en) (1995)   \n",
       "4       1       50     5.0  964982931   Usual Suspects, The (1995)   \n",
       "\n",
       "                                        genres  \n",
       "0  Adventure|Animation|Children|Comedy|Fantasy  \n",
       "1                               Comedy|Romance  \n",
       "2                        Action|Crime|Thriller  \n",
       "3                             Mystery|Thriller  \n",
       "4                       Crime|Mystery|Thriller  "
      ]
     },
     "execution_count": 111,
     "metadata": {},
     "output_type": "execute_result"
    }
   ],
   "source": [
    "# соединим таблицу с рейтингами и названиями фильмов\n",
    "joined_ratings = ratings.join(movies.set_index('movieId'), on='movieId')\n",
    "joined_ratings.head()"
   ]
  },
  {
   "cell_type": "code",
   "execution_count": 114,
   "id": "6d6bec20-5d21-4e64-84a6-8c7a393ee780",
   "metadata": {},
   "outputs": [
    {
     "data": {
      "text/plain": [
       "movieId\n",
       "1    3.920930\n",
       "2    3.431818\n",
       "3    3.259615\n",
       "4    2.357143\n",
       "5    3.071429\n",
       "Name: rating, dtype: float64"
      ]
     },
     "execution_count": 114,
     "metadata": {},
     "output_type": "execute_result"
    }
   ],
   "source": [
    "# Cреднее арифметическое значение рейтинга для каждого фильма:\n",
    "mean_ratings = joined_ratings.groupby('movieId')['rating'].mean()\n",
    "mean_ratings.head()"
   ]
  },
  {
   "cell_type": "code",
   "execution_count": 116,
   "id": "2d2367d0-bcaf-4571-b603-4f0b8f672a29",
   "metadata": {},
   "outputs": [
    {
     "data": {
      "text/plain": [
       "movieId\n",
       "356     329\n",
       "318     317\n",
       "296     307\n",
       "593     279\n",
       "2571    278\n",
       "Name: count, dtype: int64"
      ]
     },
     "execution_count": 116,
     "metadata": {},
     "output_type": "execute_result"
    }
   ],
   "source": [
    "# Количество рейтингов, проставленных каждому фильму:\n",
    "num_ratings  = joined_ratings['movieId'].value_counts()\n",
    "num_ratings.head()"
   ]
  },
  {
   "cell_type": "code",
   "execution_count": 118,
   "id": "21e2f1d1-04a6-4bb2-82a3-e51d5d0ad207",
   "metadata": {},
   "outputs": [],
   "source": [
    "# Простые статистики по количеству оценок\n",
    "min_num_ratings = np.min(num_ratings)\n",
    "max_num_ratings = np.max(num_ratings)\n",
    "mean_num_ratings = np.mean(num_ratings)\n",
    "median_num_ratings = np.median(num_ratings)"
   ]
  },
  {
   "cell_type": "code",
   "execution_count": 119,
   "id": "70de15bb-ef96-4c69-ba7a-86abfe5adc28",
   "metadata": {},
   "outputs": [
    {
     "data": {
      "text/plain": [
       "328"
      ]
     },
     "execution_count": 119,
     "metadata": {},
     "output_type": "execute_result"
    }
   ],
   "source": [
    "norm_coef = max_num_ratings - min_num_ratings\n",
    "norm_coef"
   ]
  },
  {
   "cell_type": "code",
   "execution_count": 135,
   "id": "c5b824fb-7411-4f86-8c00-6269fdd14bf0",
   "metadata": {},
   "outputs": [
    {
     "data": {
      "text/html": [
       "<div>\n",
       "<style scoped>\n",
       "    .dataframe tbody tr th:only-of-type {\n",
       "        vertical-align: middle;\n",
       "    }\n",
       "\n",
       "    .dataframe tbody tr th {\n",
       "        vertical-align: top;\n",
       "    }\n",
       "\n",
       "    .dataframe thead th {\n",
       "        text-align: right;\n",
       "    }\n",
       "</style>\n",
       "<table border=\"1\" class=\"dataframe\">\n",
       "  <thead>\n",
       "    <tr style=\"text-align: right;\">\n",
       "      <th></th>\n",
       "      <th>movieId</th>\n",
       "      <th>norm_mark</th>\n",
       "    </tr>\n",
       "  </thead>\n",
       "  <tbody>\n",
       "    <tr>\n",
       "      <th>0</th>\n",
       "      <td>356</td>\n",
       "      <td>4.164134</td>\n",
       "    </tr>\n",
       "    <tr>\n",
       "      <th>1</th>\n",
       "      <td>318</td>\n",
       "      <td>4.266985</td>\n",
       "    </tr>\n",
       "    <tr>\n",
       "      <th>2</th>\n",
       "      <td>296</td>\n",
       "      <td>3.915558</td>\n",
       "    </tr>\n",
       "    <tr>\n",
       "      <th>3</th>\n",
       "      <td>593</td>\n",
       "      <td>3.526947</td>\n",
       "    </tr>\n",
       "    <tr>\n",
       "      <th>4</th>\n",
       "      <td>2571</td>\n",
       "      <td>3.540572</td>\n",
       "    </tr>\n",
       "  </tbody>\n",
       "</table>\n",
       "</div>"
      ],
      "text/plain": [
       "   movieId  norm_mark\n",
       "0      356   4.164134\n",
       "1      318   4.266985\n",
       "2      296   3.915558\n",
       "3      593   3.526947\n",
       "4     2571   3.540572"
      ]
     },
     "execution_count": 135,
     "metadata": {},
     "output_type": "execute_result"
    }
   ],
   "source": [
    "movieId_norm_mark = []\n",
    "\n",
    "# посчитаем нашу метрику для каждого фильма из датасета\n",
    "for f in num_ratings.index:\n",
    "    movieId_norm_mark.append(\n",
    "        (f, mean_ratings[f] * (num_ratings[f] - min_num_ratings) / norm_coef)\n",
    "    )\n",
    "    \n",
    "movieId_norm_mark = pd.DataFrame(movieId_norm_mark, columns=['movieId', 'norm_mark'])\n",
    "\n",
    "movieId_norm_mark.head()"
   ]
  },
  {
   "cell_type": "code",
   "execution_count": null,
   "id": "f713182e-d022-419f-b14d-4a6fd734f5bb",
   "metadata": {},
   "outputs": [],
   "source": []
  }
 ],
 "metadata": {
  "kernelspec": {
   "display_name": "Python 3 (ipykernel)",
   "language": "python",
   "name": "python3"
  },
  "language_info": {
   "codemirror_mode": {
    "name": "ipython",
    "version": 3
   },
   "file_extension": ".py",
   "mimetype": "text/x-python",
   "name": "python",
   "nbconvert_exporter": "python",
   "pygments_lexer": "ipython3",
   "version": "3.12.6"
  }
 },
 "nbformat": 4,
 "nbformat_minor": 5
}
